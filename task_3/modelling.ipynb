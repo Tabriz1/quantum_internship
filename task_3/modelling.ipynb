{
 "cells": [
  {
   "cell_type": "code",
   "execution_count": 62,
   "id": "4943c5f1",
   "metadata": {},
   "outputs": [],
   "source": [
    "import pandas as pd\n",
    "import numpy as np\n",
    "\n",
    "import matplotlib.pyplot as plt\n",
    "import seaborn as sns\n",
    "\n",
    "from sklearn.tree import DecisionTreeRegressor\n",
    "from sklearn.model_selection import train_test_split\n",
    "from sklearn.metrics import r2_score, mean_absolute_error, mean_squared_error\n",
    "\n",
    "from sklearn.preprocessing import StandardScaler\n",
    "\n",
    "import warnings\n",
    "warnings.filterwarnings(\"ignore\")"
   ]
  },
  {
   "cell_type": "code",
   "execution_count": 63,
   "id": "a55210bf",
   "metadata": {},
   "outputs": [],
   "source": [
    "df = pd.read_csv(\"internship_train.csv\")"
   ]
  },
  {
   "cell_type": "markdown",
   "id": "8c0a10f7",
   "metadata": {},
   "source": [
    "### Splitting data into train and test for modelling and Scaling"
   ]
  },
  {
   "cell_type": "code",
   "execution_count": 64,
   "id": "dd2935df",
   "metadata": {},
   "outputs": [],
   "source": [
    "X, y = df.drop(\"target\", axis = 1), df.target"
   ]
  },
  {
   "cell_type": "code",
   "execution_count": 65,
   "id": "aca6f6fb",
   "metadata": {},
   "outputs": [
    {
     "data": {
      "text/plain": [
       "(90000, 54)"
      ]
     },
     "execution_count": 65,
     "metadata": {},
     "output_type": "execute_result"
    }
   ],
   "source": [
    "df.shape"
   ]
  },
  {
   "cell_type": "code",
   "execution_count": 66,
   "id": "9413b597",
   "metadata": {},
   "outputs": [],
   "source": [
    "X_train, X_test, y_train, y_test = train_test_split(X, y, test_size=0.2, random_state=42)"
   ]
  },
  {
   "cell_type": "code",
   "execution_count": 67,
   "id": "c0ff7679",
   "metadata": {},
   "outputs": [],
   "source": [
    "cols = X_train.columns\n",
    "transformer = StandardScaler()\n",
    "X_train = transformer.fit_transform(X_train)\n",
    "X_train = pd.DataFrame(X_train, columns = cols)\n",
    "X_test = transformer.transform(X_test)\n"
   ]
  },
  {
   "cell_type": "code",
   "execution_count": 68,
   "id": "0ee07e54",
   "metadata": {},
   "outputs": [
    {
     "data": {
      "text/plain": [
       "array([[-0.79130327,  0.19505345,  1.00014034, ..., -0.80921982,\n",
       "         0.22577126, -0.87233901],\n",
       "       [ 0.10817396, -0.90965354,  0.14708172, ...,  0.07967858,\n",
       "         0.47393547,  1.45662395],\n",
       "       [-0.07864054, -0.36772181,  1.37465388, ...,  0.00710551,\n",
       "         0.17174455,  0.08874996],\n",
       "       ...,\n",
       "       [-0.30696938,  0.63971538,  0.74352921, ..., -1.01974596,\n",
       "         0.39240039, -1.23596132],\n",
       "       [ 1.65804241, -1.18061941,  0.75740008, ..., -0.77033141,\n",
       "         1.04241795, -1.69292647],\n",
       "       [-1.58699466, -0.97218413, -0.60194536, ..., -1.69794346,\n",
       "         0.75576385, -1.11329136]])"
      ]
     },
     "execution_count": 68,
     "metadata": {},
     "output_type": "execute_result"
    }
   ],
   "source": [
    "X_test"
   ]
  },
  {
   "cell_type": "markdown",
   "id": "6127af4c",
   "metadata": {},
   "source": [
    "### Modelling with Decision Tree Regressor"
   ]
  },
  {
   "cell_type": "code",
   "execution_count": 69,
   "id": "e2be689c",
   "metadata": {},
   "outputs": [],
   "source": [
    "dt = DecisionTreeRegressor().fit(X_train, y_train)"
   ]
  },
  {
   "cell_type": "code",
   "execution_count": 70,
   "id": "d3e4d08b",
   "metadata": {},
   "outputs": [],
   "source": [
    "y_predDT = dt.predict(X_test)"
   ]
  },
  {
   "cell_type": "code",
   "execution_count": 71,
   "id": "98ffb548",
   "metadata": {},
   "outputs": [],
   "source": [
    "r2 = r2_score(y_test, y_predDT)"
   ]
  },
  {
   "cell_type": "code",
   "execution_count": 72,
   "id": "79bad4af",
   "metadata": {},
   "outputs": [
    {
     "data": {
      "text/plain": [
       "0.005674671430553154"
      ]
     },
     "execution_count": 72,
     "metadata": {},
     "output_type": "execute_result"
    }
   ],
   "source": [
    "mean_absolute_error(y_test, y_predDT)"
   ]
  },
  {
   "cell_type": "code",
   "execution_count": 73,
   "id": "c8d5c0e7",
   "metadata": {},
   "outputs": [
    {
     "data": {
      "text/plain": [
       "0.007754786384688464"
      ]
     },
     "execution_count": 73,
     "metadata": {},
     "output_type": "execute_result"
    }
   ],
   "source": [
    "np.sqrt(mean_squared_error(y_test, y_predDT))"
   ]
  },
  {
   "cell_type": "markdown",
   "id": "46dd5d46",
   "metadata": {},
   "source": [
    "### Writing internship_hidden_test with new predicted values to new Hidden_test.csv"
   ]
  },
  {
   "cell_type": "code",
   "execution_count": 74,
   "id": "44bf9f13",
   "metadata": {},
   "outputs": [],
   "source": [
    "test = pd.read_csv(\"internship_hidden_test.csv\")\n",
    "hidden_test_predictions = dt.predict(test)\n",
    "test[\"Predicted Target\"] = hidden_test_predictions"
   ]
  },
  {
   "cell_type": "code",
   "execution_count": 75,
   "id": "bdc89e21",
   "metadata": {},
   "outputs": [],
   "source": [
    "test.to_csv(\"hidden_test.csv\", index = False)"
   ]
  }
 ],
 "metadata": {
  "kernelspec": {
   "display_name": "Python 3 (ipykernel)",
   "language": "python",
   "name": "python3"
  },
  "language_info": {
   "codemirror_mode": {
    "name": "ipython",
    "version": 3
   },
   "file_extension": ".py",
   "mimetype": "text/x-python",
   "name": "python",
   "nbconvert_exporter": "python",
   "pygments_lexer": "ipython3",
   "version": "3.9.7"
  }
 },
 "nbformat": 4,
 "nbformat_minor": 5
}
